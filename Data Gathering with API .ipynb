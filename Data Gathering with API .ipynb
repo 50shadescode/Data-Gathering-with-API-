{
 "cells": [
  {
   "cell_type": "markdown",
   "id": "d4cae7e1-3c8d-4f13-92d5-455ddeae0d99",
   "metadata": {},
   "source": [
    "Import Required Libraries"
   ]
  },
  {
   "cell_type": "code",
   "execution_count": 17,
   "id": "b3703d3b-2e6b-4d7d-b29b-019b7aa334a8",
   "metadata": {},
   "outputs": [],
   "source": [
    "import requests\n",
    "import pandas as pd\n",
    "from IPython.display import display, Image\n"
   ]
  },
  {
   "cell_type": "markdown",
   "id": "ee2016ef-b8bb-489b-acdf-70ca062e59bf",
   "metadata": {},
   "source": [
    "Fetch Astronomy Picture of the Day (APOD)"
   ]
  },
  {
   "cell_type": "code",
   "execution_count": 20,
   "id": "649556ed-8828-4678-9535-d3b9408a1167",
   "metadata": {},
   "outputs": [
    {
     "data": {
      "text/html": [
       "<img src=\"https://apod.nasa.gov/apod/image/2503/2025_03_14_ZM_Tololo_Totalita_Fin_1024py.png\"/>"
      ],
      "text/plain": [
       "<IPython.core.display.Image object>"
      ]
     },
     "metadata": {},
     "output_type": "display_data"
    },
    {
     "name": "stdout",
     "output_type": "stream",
     "text": [
      "Title: Tololo Totality\n",
      "Explanation: On March 14 the Moon was Full. In an appropriate celebration of Pi day, that put the Moon 3.14 radians (180 degrees) in ecliptic longitude from the Sun in planet Earth's sky. As a bonus for fans of Pi and the night sky, on that date the Moon also passed directly through Earth's umbral shadow in a total lunar eclipse. In clear skies, the colors of an eclipsed Moon can be vivid. Reflecting the deeply reddened sunlight scattered into Earth's shadow, the darkened lunar disk was recorded in this time series composite image from Cerro Tololo Observatory, Chile. The lunar triptych captures the start, middle, and end of the total eclipse phase that lasted about an hour. A faint bluish tint seen just along the brighter lunar limb at the shadow's edge is due to sunlight filtered through Earth's stratospheric ozone layer.   Growing Gallery: Total Lunar Eclipse of 2025 March\n"
     ]
    }
   ],
   "source": [
    "API_KEY = \"hdcci4kzr27sUF7vmG9re1CX5VWI9oOWh65D5d6Y\"\n",
    "APOD_URL = f\"https://api.nasa.gov/planetary/apod?api_key={API_KEY}\"\n",
    "\n",
    "response = requests.get(APOD_URL)\n",
    "apod_data = response.json()\n",
    "\n",
    "if \"url\" in apod_data:\n",
    "    display(Image(url=apod_data[\"url\"]))\n",
    "    print(f\"Title: {apod_data['title']}\\nExplanation: {apod_data['explanation']}\")"
   ]
  },
  {
   "cell_type": "markdown",
   "id": "4fe56204-58a1-4d58-a274-26196a1b2d66",
   "metadata": {},
   "source": [
    "Fetch Asteroid Data from NASA's NeoWs API"
   ]
  },
  {
   "cell_type": "code",
   "execution_count": 25,
   "id": "4971b227-6d83-4dfd-a524-cca428f133d7",
   "metadata": {},
   "outputs": [],
   "source": [
    "NEO_URL = f\"https://api.nasa.gov/neo/rest/v1/feed?api_key={API_KEY}\"\n",
    "\n",
    "response = requests.get(NEO_URL)\n",
    "asteroid_data = response.json()\n"
   ]
  },
  {
   "cell_type": "markdown",
   "id": "e17b3500-01c7-43ee-9a20-63560cfb4137",
   "metadata": {},
   "source": [
    "Extract Relevant Information into a Pandas DataFrame"
   ]
  },
  {
   "cell_type": "code",
   "execution_count": 28,
   "id": "903273e3-8ebc-4f74-8ac6-358307bf2128",
   "metadata": {},
   "outputs": [
    {
     "name": "stdout",
     "output_type": "stream",
     "text": [
      "  Asteroid ID      Asteroid name  Minimal estimated diameter (km)  \\\n",
      "0     2462238  462238 (2008 CN1)                         0.196135   \n",
      "1     3840738         (2019 FN2)                         0.048368   \n",
      "2    54016204          (2020 FM)                         0.040230   \n",
      "3    54132069          (2021 FM)                         0.029686   \n",
      "4    54157829         (2021 LR3)                         0.035855   \n",
      "\n",
      "   Absolute magnitude Relative velocity (km/s)  \n",
      "0               20.66            18.3555186205  \n",
      "1               23.70            14.4129692253  \n",
      "2               24.10            11.2133494046  \n",
      "3               24.76            13.7026966356  \n",
      "4               24.35             6.0173680138  \n"
     ]
    }
   ],
   "source": [
    "asteroids = []\n",
    "for date in asteroid_data[\"near_earth_objects\"]:\n",
    "    for asteroid in asteroid_data[\"near_earth_objects\"][date]:\n",
    "        asteroids.append({\n",
    "            \"Asteroid ID\": asteroid[\"id\"],\n",
    "            \"Asteroid name\": asteroid[\"name\"],\n",
    "            \"Minimal estimated diameter (km)\": asteroid[\"estimated_diameter\"][\"kilometers\"][\"estimated_diameter_min\"],\n",
    "            \"Absolute magnitude\": asteroid[\"absolute_magnitude_h\"],\n",
    "            \"Relative velocity (km/s)\": asteroid[\"close_approach_data\"][0][\"relative_velocity\"][\"kilometers_per_second\"]\n",
    "        })\n",
    "\n",
    "df = pd.DataFrame(asteroids)\n",
    "print(df.head())\n"
   ]
  },
  {
   "cell_type": "markdown",
   "id": "99e01954-e6b6-4dbd-afbf-6f3634ffde97",
   "metadata": {},
   "source": [
    "Export Data to CSV"
   ]
  },
  {
   "cell_type": "code",
   "execution_count": 31,
   "id": "a4a871fe-cead-4b21-82b3-311c12a1d46f",
   "metadata": {},
   "outputs": [
    {
     "name": "stdout",
     "output_type": "stream",
     "text": [
      "CSV file saved successfully.\n"
     ]
    }
   ],
   "source": [
    "df.to_csv(\"asteroid_data.csv\", index=False)\n",
    "print(\"CSV file saved successfully.\")\n"
   ]
  },
  {
   "cell_type": "code",
   "execution_count": null,
   "id": "c4ae5ea5-281e-4cb2-b0df-bfdcf9c936ed",
   "metadata": {},
   "outputs": [],
   "source": []
  }
 ],
 "metadata": {
  "kernelspec": {
   "display_name": "Python [conda env:base] *",
   "language": "python",
   "name": "conda-base-py"
  },
  "language_info": {
   "codemirror_mode": {
    "name": "ipython",
    "version": 3
   },
   "file_extension": ".py",
   "mimetype": "text/x-python",
   "name": "python",
   "nbconvert_exporter": "python",
   "pygments_lexer": "ipython3",
   "version": "3.12.7"
  }
 },
 "nbformat": 4,
 "nbformat_minor": 5
}
